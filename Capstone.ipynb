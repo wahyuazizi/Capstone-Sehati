{
  "cells": [
    {
      "cell_type": "code",
      "execution_count": 16,
      "metadata": {
        "colab": {
          "base_uri": "https://localhost:8080/"
        },
        "id": "hJEwst2sV-aC",
        "outputId": "c6dc84cd-7576-42c0-a446-31dcd1e32d11"
      },
      "outputs": [
        {
          "output_type": "stream",
          "name": "stdout",
          "text": [
            "Drive already mounted at /content/drive; to attempt to forcibly remount, call drive.mount(\"/content/drive\", force_remount=True).\n"
          ]
        }
      ],
      "source": [
        "from google.colab import drive\n",
        "drive.mount('/content/drive')"
      ]
    },
    {
      "cell_type": "code",
      "execution_count": 17,
      "metadata": {
        "id": "SVqoymvRV_ha"
      },
      "outputs": [],
      "source": [
        "file_path = '/content/drive/MyDrive/Data/datasetpenyakit.csv'"
      ]
    },
    {
      "cell_type": "code",
      "execution_count": 18,
      "metadata": {
        "id": "g1XZjs3uWMCo"
      },
      "outputs": [],
      "source": [
        "import pandas as pd\n",
        "import tensorflow as tf\n",
        "from sklearn.model_selection import train_test_split\n",
        "from sklearn.preprocessing import OneHotEncoder\n",
        "from tensorflow.keras import Sequential\n",
        "from tensorflow.keras.layers import Dense, Dropout\n",
        "\n",
        "# Load dataset\n",
        "# file_path = 'path_to_your_dataset.csv'  # Ganti dengan path dataset Anda\n",
        "dataset = pd.read_csv(file_path)\n"
      ]
    },
    {
      "cell_type": "code",
      "execution_count": 19,
      "metadata": {
        "colab": {
          "base_uri": "https://localhost:8080/"
        },
        "id": "qlSYRQu8r6XY",
        "outputId": "081e84bf-c1e5-442f-b507-3f63eb5825e7"
      },
      "outputs": [
        {
          "output_type": "stream",
          "name": "stdout",
          "text": [
            "Nama kolom setelah diperbaiki:\n",
            "Index(['itching', 'skin_rash', 'nodal_skin_eruptions', 'continuous_sneezing',\n",
            "       'shivering', 'chills', 'joint_pain', 'stomach_pain', 'acidity',\n",
            "       'ulcers_on_tongue',\n",
            "       ...\n",
            "       'blackheads', 'scurring', 'skin_peeling', 'silver_like_dusting',\n",
            "       'small_dents_in_nails', 'inflammatory_nails', 'blister',\n",
            "       'red_sore_around_nose', 'yellow_crust_ooze', 'prognosis'],\n",
            "      dtype='object', length=133)\n"
          ]
        }
      ],
      "source": [
        "# Mengganti spasi dengan underscore pada nama kolom\n",
        "dataset.columns = dataset.columns.str.replace(' ', '')\n",
        "\n",
        "# Simpan dataset yang telah diperbaiki\n",
        "dataset.to_csv('/content/drive/MyDrive/Data/datasetpenyakit_fixed.csv', index=False)\n",
        "\n",
        "print(\"Nama kolom setelah diperbaiki:\")\n",
        "print(dataset.columns)"
      ]
    },
    {
      "cell_type": "code",
      "execution_count": 20,
      "metadata": {
        "colab": {
          "base_uri": "https://localhost:8080/"
        },
        "id": "tRqv-Zg7sOPA",
        "outputId": "6d6518d6-6db7-48a9-8c8b-5af2895cbf2d"
      },
      "outputs": [
        {
          "output_type": "stream",
          "name": "stdout",
          "text": [
            "Disease Classes: ['AIDS' 'Acne' 'Alcoholic Hepatitis' 'Allergy' 'Arthritis'\n",
            " 'Bronchial Asthma' 'Cervical Spondylosis' 'Chickenpox'\n",
            " 'Chronic Cholestasis' 'Common Cold' 'Dengue' 'Diabetes '\n",
            " 'Dimorphic Hemmorhoids (piles)' 'Drug Reaction' 'Fungal Infection' 'GERD'\n",
            " 'Gastroenteritis' 'Heart Attack' 'Hepatitis A' 'Hepatitis B'\n",
            " 'Hepatitis C' 'Hepatitis D' 'Hepatitis E' 'Hypertension '\n",
            " 'Hyperthyroidism' 'Hypoglycemia' 'Hypothyroidism' 'Impetigo' 'Jaundice'\n",
            " 'Malaria' 'Migraine' 'Osteoarthritis' 'Paralysis (brain hemorrhage)'\n",
            " 'Peptic Ulcer Disease' 'Pneumonia' 'Psoriasis' 'Tuberculosis' 'Typhoid'\n",
            " 'Urinary Tract Infection' 'Varicose Veins' 'Vertigo']\n"
          ]
        }
      ],
      "source": [
        "# Pisahkan fitur dan target\n",
        "X = dataset.drop(columns=[\"prognosis\"])\n",
        "y = dataset[\"prognosis\"]\n",
        "\n",
        "# One-hot encode target\n",
        "encoder = OneHotEncoder(sparse_output=False)\n",
        "y_encoded = encoder.fit_transform(y.values.reshape(-1, 1))\n",
        "\n",
        "# Split data\n",
        "X_train, X_test, y_train, y_test = train_test_split(X, y_encoded, test_size=0.2, random_state=42, stratify=y)\n",
        "\n",
        "# Mendapatkan nama kelas\n",
        "disease_classes = encoder.categories_[0]\n",
        "print(\"Disease Classes:\", disease_classes)\n"
      ]
    },
    {
      "cell_type": "code",
      "execution_count": 21,
      "metadata": {
        "colab": {
          "base_uri": "https://localhost:8080/"
        },
        "id": "8O4mtcxMWXjn",
        "outputId": "cfe722f3-95c0-4fe4-f930-6b4acf6408ea"
      },
      "outputs": [
        {
          "output_type": "stream",
          "name": "stdout",
          "text": [
            "Epoch 1/50\n",
            "100/100 [==============================] - 1s 4ms/step - loss: 2.9083 - accuracy: 0.4445 - val_loss: 1.3760 - val_accuracy: 0.9736\n",
            "Epoch 2/50\n",
            "100/100 [==============================] - 0s 2ms/step - loss: 0.7924 - accuracy: 0.9216 - val_loss: 0.1198 - val_accuracy: 1.0000\n",
            "Epoch 3/50\n",
            "100/100 [==============================] - 0s 2ms/step - loss: 0.2048 - accuracy: 0.9761 - val_loss: 0.0240 - val_accuracy: 1.0000\n",
            "Epoch 4/50\n",
            "100/100 [==============================] - 0s 2ms/step - loss: 0.1074 - accuracy: 0.9877 - val_loss: 0.0089 - val_accuracy: 1.0000\n",
            "Epoch 5/50\n",
            "100/100 [==============================] - 0s 2ms/step - loss: 0.0672 - accuracy: 0.9953 - val_loss: 0.0045 - val_accuracy: 1.0000\n",
            "Epoch 6/50\n",
            "100/100 [==============================] - 0s 2ms/step - loss: 0.0492 - accuracy: 0.9953 - val_loss: 0.0022 - val_accuracy: 1.0000\n",
            "Epoch 7/50\n",
            "100/100 [==============================] - 0s 2ms/step - loss: 0.0330 - accuracy: 0.9975 - val_loss: 0.0015 - val_accuracy: 1.0000\n",
            "Epoch 8/50\n",
            "100/100 [==============================] - 0s 2ms/step - loss: 0.0287 - accuracy: 0.9965 - val_loss: 9.2881e-04 - val_accuracy: 1.0000\n",
            "Epoch 9/50\n",
            "100/100 [==============================] - 0s 2ms/step - loss: 0.0198 - accuracy: 0.9981 - val_loss: 7.0374e-04 - val_accuracy: 1.0000\n",
            "Epoch 10/50\n",
            "100/100 [==============================] - 0s 2ms/step - loss: 0.0206 - accuracy: 0.9981 - val_loss: 4.7334e-04 - val_accuracy: 1.0000\n",
            "Epoch 11/50\n",
            "100/100 [==============================] - 0s 2ms/step - loss: 0.0186 - accuracy: 0.9981 - val_loss: 3.8318e-04 - val_accuracy: 1.0000\n",
            "Epoch 12/50\n",
            "100/100 [==============================] - 0s 2ms/step - loss: 0.0140 - accuracy: 0.9984 - val_loss: 3.3566e-04 - val_accuracy: 1.0000\n",
            "Epoch 13/50\n",
            "100/100 [==============================] - 0s 2ms/step - loss: 0.0137 - accuracy: 0.9975 - val_loss: 2.1706e-04 - val_accuracy: 1.0000\n",
            "Epoch 14/50\n",
            "100/100 [==============================] - 0s 2ms/step - loss: 0.0111 - accuracy: 0.9997 - val_loss: 1.6594e-04 - val_accuracy: 1.0000\n",
            "Epoch 15/50\n",
            "100/100 [==============================] - 0s 2ms/step - loss: 0.0101 - accuracy: 0.9987 - val_loss: 1.2978e-04 - val_accuracy: 1.0000\n",
            "Epoch 16/50\n",
            "100/100 [==============================] - 0s 2ms/step - loss: 0.0120 - accuracy: 0.9987 - val_loss: 1.2066e-04 - val_accuracy: 1.0000\n",
            "Epoch 17/50\n",
            "100/100 [==============================] - 0s 2ms/step - loss: 0.0082 - accuracy: 0.9987 - val_loss: 1.1322e-04 - val_accuracy: 1.0000\n",
            "Epoch 18/50\n",
            "100/100 [==============================] - 0s 2ms/step - loss: 0.0088 - accuracy: 0.9997 - val_loss: 7.2000e-05 - val_accuracy: 1.0000\n",
            "Epoch 19/50\n",
            "100/100 [==============================] - 0s 2ms/step - loss: 0.0062 - accuracy: 0.9997 - val_loss: 5.3749e-05 - val_accuracy: 1.0000\n",
            "Epoch 20/50\n",
            "100/100 [==============================] - 0s 2ms/step - loss: 0.0064 - accuracy: 0.9987 - val_loss: 4.7815e-05 - val_accuracy: 1.0000\n",
            "Epoch 21/50\n",
            "100/100 [==============================] - 0s 2ms/step - loss: 0.0073 - accuracy: 0.9997 - val_loss: 3.3713e-05 - val_accuracy: 1.0000\n",
            "Epoch 22/50\n",
            "100/100 [==============================] - 0s 2ms/step - loss: 0.0066 - accuracy: 0.9994 - val_loss: 3.1624e-05 - val_accuracy: 1.0000\n",
            "Epoch 23/50\n",
            "100/100 [==============================] - 0s 2ms/step - loss: 0.0048 - accuracy: 0.9997 - val_loss: 3.1770e-05 - val_accuracy: 1.0000\n",
            "Epoch 24/50\n",
            "100/100 [==============================] - 0s 3ms/step - loss: 0.0048 - accuracy: 0.9994 - val_loss: 3.5669e-05 - val_accuracy: 1.0000\n",
            "Epoch 25/50\n",
            "100/100 [==============================] - 0s 3ms/step - loss: 0.0040 - accuracy: 1.0000 - val_loss: 2.7442e-05 - val_accuracy: 1.0000\n",
            "Epoch 26/50\n",
            "100/100 [==============================] - 0s 2ms/step - loss: 0.0056 - accuracy: 0.9987 - val_loss: 2.0947e-05 - val_accuracy: 1.0000\n",
            "Epoch 27/50\n",
            "100/100 [==============================] - 0s 2ms/step - loss: 0.0034 - accuracy: 0.9997 - val_loss: 1.4188e-05 - val_accuracy: 1.0000\n",
            "Epoch 28/50\n",
            "100/100 [==============================] - 0s 2ms/step - loss: 0.0039 - accuracy: 0.9994 - val_loss: 1.7913e-05 - val_accuracy: 1.0000\n",
            "Epoch 29/50\n",
            "100/100 [==============================] - 0s 2ms/step - loss: 0.0039 - accuracy: 0.9997 - val_loss: 1.7429e-05 - val_accuracy: 1.0000\n",
            "Epoch 30/50\n",
            "100/100 [==============================] - 0s 2ms/step - loss: 0.0038 - accuracy: 0.9991 - val_loss: 1.3065e-05 - val_accuracy: 1.0000\n",
            "Epoch 31/50\n",
            "100/100 [==============================] - 0s 2ms/step - loss: 0.0045 - accuracy: 0.9991 - val_loss: 1.2454e-05 - val_accuracy: 1.0000\n",
            "Epoch 32/50\n",
            "100/100 [==============================] - 0s 2ms/step - loss: 0.0033 - accuracy: 0.9997 - val_loss: 8.3495e-06 - val_accuracy: 1.0000\n",
            "Epoch 33/50\n",
            "100/100 [==============================] - 0s 2ms/step - loss: 0.0027 - accuracy: 0.9997 - val_loss: 8.6975e-06 - val_accuracy: 1.0000\n",
            "Epoch 34/50\n",
            "100/100 [==============================] - 0s 2ms/step - loss: 0.0027 - accuracy: 1.0000 - val_loss: 5.7846e-06 - val_accuracy: 1.0000\n",
            "Epoch 35/50\n",
            "100/100 [==============================] - 0s 2ms/step - loss: 0.0022 - accuracy: 0.9997 - val_loss: 5.8236e-06 - val_accuracy: 1.0000\n",
            "Epoch 36/50\n",
            "100/100 [==============================] - 0s 2ms/step - loss: 0.0019 - accuracy: 1.0000 - val_loss: 5.6850e-06 - val_accuracy: 1.0000\n",
            "Epoch 37/50\n",
            "100/100 [==============================] - 0s 2ms/step - loss: 0.0041 - accuracy: 0.9994 - val_loss: 5.2621e-06 - val_accuracy: 1.0000\n",
            "Epoch 38/50\n",
            "100/100 [==============================] - 0s 2ms/step - loss: 0.0027 - accuracy: 1.0000 - val_loss: 1.5719e-05 - val_accuracy: 1.0000\n",
            "Epoch 39/50\n",
            "100/100 [==============================] - 0s 2ms/step - loss: 0.0040 - accuracy: 0.9994 - val_loss: 5.2003e-06 - val_accuracy: 1.0000\n",
            "Epoch 40/50\n",
            "100/100 [==============================] - 0s 2ms/step - loss: 0.0017 - accuracy: 0.9997 - val_loss: 4.1065e-06 - val_accuracy: 1.0000\n",
            "Epoch 41/50\n",
            "100/100 [==============================] - 0s 2ms/step - loss: 0.0023 - accuracy: 0.9997 - val_loss: 3.2192e-06 - val_accuracy: 1.0000\n",
            "Epoch 42/50\n",
            "100/100 [==============================] - 0s 2ms/step - loss: 0.0021 - accuracy: 0.9994 - val_loss: 2.5450e-06 - val_accuracy: 1.0000\n",
            "Epoch 43/50\n",
            "100/100 [==============================] - 0s 2ms/step - loss: 0.0023 - accuracy: 0.9997 - val_loss: 3.4967e-06 - val_accuracy: 1.0000\n",
            "Epoch 44/50\n",
            "100/100 [==============================] - 0s 2ms/step - loss: 0.0015 - accuracy: 1.0000 - val_loss: 1.8238e-06 - val_accuracy: 1.0000\n",
            "Epoch 45/50\n",
            "100/100 [==============================] - 0s 2ms/step - loss: 0.0028 - accuracy: 0.9997 - val_loss: 1.3881e-06 - val_accuracy: 1.0000\n",
            "Epoch 46/50\n",
            "100/100 [==============================] - 0s 2ms/step - loss: 0.0012 - accuracy: 1.0000 - val_loss: 8.7919e-07 - val_accuracy: 1.0000\n",
            "Epoch 47/50\n",
            "100/100 [==============================] - 0s 2ms/step - loss: 0.0018 - accuracy: 1.0000 - val_loss: 9.8201e-07 - val_accuracy: 1.0000\n",
            "Epoch 48/50\n",
            "100/100 [==============================] - 0s 2ms/step - loss: 0.0012 - accuracy: 1.0000 - val_loss: 8.9360e-07 - val_accuracy: 1.0000\n",
            "Epoch 49/50\n",
            "100/100 [==============================] - 0s 2ms/step - loss: 0.0018 - accuracy: 0.9997 - val_loss: 1.5367e-06 - val_accuracy: 1.0000\n",
            "Epoch 50/50\n",
            "100/100 [==============================] - 0s 2ms/step - loss: 0.0017 - accuracy: 0.9994 - val_loss: 8.7408e-07 - val_accuracy: 1.0000\n",
            "Test Loss: 5.794706794404192e-07, Test Accuracy: 1.0\n"
          ]
        }
      ],
      "source": [
        "# Define model\n",
        "model = Sequential([\n",
        "    Dense(128, input_shape=(132,), activation='relu'),\n",
        "    Dropout(0.3),\n",
        "    Dense(64, activation='relu'),\n",
        "    Dropout(0.3),\n",
        "    Dense(41, activation='softmax')  # Output layer\n",
        "])\n",
        "\n",
        "# Compile model\n",
        "model.compile(optimizer='adam',\n",
        "              loss='categorical_crossentropy',\n",
        "              metrics=['accuracy'])\n",
        "\n",
        "# Train model\n",
        "history = model.fit(X_train, y_train,\n",
        "                    validation_split=0.2,\n",
        "                    epochs=50,\n",
        "                    batch_size=32,\n",
        "                    verbose=1)\n",
        "\n",
        "# Evaluate model\n",
        "test_loss, test_accuracy = model.evaluate(X_test, y_test, verbose=0)\n",
        "print(f\"Test Loss: {test_loss}, Test Accuracy: {test_accuracy}\")\n"
      ]
    },
    {
      "cell_type": "code",
      "execution_count": 22,
      "metadata": {
        "colab": {
          "base_uri": "https://localhost:8080/",
          "height": 927
        },
        "id": "E7YR1oEJW34a",
        "outputId": "c06a8635-2aa6-41f8-9c54-4719e67de39e"
      },
      "outputs": [
        {
          "output_type": "display_data",
          "data": {
            "text/plain": [
              "<Figure size 640x480 with 1 Axes>"
            ],
            "image/png": "[encoded data removed]"
          },
          "metadata": {}
        },
        {
          "output_type": "display_data",
          "data": {
            "text/plain": [
              "<Figure size 640x480 with 1 Axes>"
            ],
            "image/png": "[encoded data removed]"
          },
          "metadata": {}
        }
      ],
      "source": [
        "import matplotlib.pyplot as plt\n",
        "\n",
        "# Plot training history\n",
        "plt.plot(history.history['accuracy'], label='Train Accuracy')\n",
        "plt.plot(history.history['val_accuracy'], label='Validation Accuracy')\n",
        "plt.title('Model Accuracy')\n",
        "plt.xlabel('Epoch')\n",
        "plt.ylabel('Accuracy')\n",
        "plt.legend()\n",
        "plt.show()\n",
        "\n",
        "plt.plot(history.history['loss'], label='Train Loss')\n",
        "plt.plot(history.history['val_loss'], label='Validation Loss')\n",
        "plt.title('Model Loss')\n",
        "plt.xlabel('Epoch')\n",
        "plt.ylabel('Loss')\n",
        "plt.legend()\n",
        "plt.show()\n"
      ]
    },
    {
      "cell_type": "code",
      "execution_count": 23,
      "metadata": {
        "colab": {
          "base_uri": "https://localhost:8080/"
        },
        "id": "XI_3ZzJsXDv5",
        "outputId": "ef93f295-00d2-47bc-9e29-70a9ef6fc337"
      },
      "outputs": [
        {
          "output_type": "stream",
          "name": "stdout",
          "text": [
            "1/1 [==============================] - 0s 53ms/step\n",
            "Predicted Disease: Fungal Infection\n"
          ]
        }
      ],
      "source": [
        "# Contoh input untuk prediksi\n",
        "input_features = ['itching', 'skin_rash', 'nodal_skin_eruptions', 'dischromic_patches']\n",
        "X_sample = [1 if feature in input_features else 0 for feature in X.columns]\n",
        "\n",
        "# Prediksi\n",
        "X_sample = pd.DataFrame([X_sample])  # Ubah ke DataFrame\n",
        "prediction = model.predict(X_sample)\n",
        "\n",
        "# Tampilkan hasil\n",
        "predicted_class = disease_classes[prediction.argmax()]\n",
        "print(\"Predicted Disease:\", predicted_class)\n"
      ]
    },
    {
      "cell_type": "markdown",
      "metadata": {
        "id": "cSGBctAeXUXw"
      },
      "source": [
        "# TES"
      ]
    },
    {
      "cell_type": "code",
      "execution_count": 24,
      "metadata": {
        "colab": {
          "base_uri": "https://localhost:8080/"
        },
        "id": "0rBJ8fKJXUBJ",
        "outputId": "b850404c-b886-4a92-90f1-b57b98356de0"
      },
      "outputs": [
        {
          "output_type": "stream",
          "name": "stdout",
          "text": [
            "Daftar fitur (tanpa kolom target): ['itching', 'skin_rash', 'nodal_skin_eruptions', 'continuous_sneezing', 'shivering', 'chills', 'joint_pain', 'stomach_pain', 'acidity', 'ulcers_on_tongue', 'muscle_wasting', 'vomiting', 'burning_micturition', 'spotting_urination', 'fatigue', 'weight_gain', 'anxiety', 'cold_hands_and_feets', 'mood_swings', 'weight_loss', 'restlessness', 'lethargy', 'patches_in_throat', 'irregular_sugar_level', 'cough', 'high_fever', 'sunken_eyes', 'breathlessness', 'sweating', 'dehydration', 'indigestion', 'headache', 'yellowish_skin', 'dark_urine', 'nausea', 'loss_of_appetite', 'pain_behind_the_eyes', 'back_pain', 'constipation', 'abdominal_pain', 'diarrhoea', 'mild_fever', 'yellow_urine', 'yellowing_of_eyes', 'acute_liver_failure', 'fluid_overload', 'swelling_of_stomach', 'swelled_lymph_nodes', 'malaise', 'blurred_and_distorted_vision', 'phlegm', 'throat_irritation', 'redness_of_eyes', 'sinus_pressure', 'runny_nose', 'congestion', 'chest_pain', 'weakness_in_limbs', 'fast_heart_rate', 'pain_during_bowel_movements', 'pain_in_anal_region', 'bloody_stool', 'irritation_in_anus', 'neck_pain', 'dizziness', 'cramps', 'bruising', 'obesity', 'swollen_legs', 'swollen_blood_vessels', 'puffy_face_and_eyes', 'enlarged_thyroid', 'brittle_nails', 'swollen_extremeties', 'excessive_hunger', 'extra_marital_contacts', 'drying_and_tingling_lips', 'slurred_speech', 'knee_pain', 'hip_joint_pain', 'muscle_weakness', 'stiff_neck', 'swelling_joints', 'movement_stiffness', 'spinning_movements', 'loss_of_balance', 'unsteadiness', 'weakness_of_one_body_side', 'loss_of_smell', 'bladder_discomfort', 'foul_smell_ofurine', 'continuous_feel_of_urine', 'passage_of_gases', 'internal_itching', 'toxic_look_(typhos)', 'depression', 'irritability', 'muscle_pain', 'altered_sensorium', 'red_spots_over_body', 'belly_pain', 'abnormal_menstruation', 'dischromic_patches', 'watering_from_eyes', 'increased_appetite', 'polyuria', 'family_history', 'mucoid_sputum', 'rusty_sputum', 'lack_of_concentration', 'visual_disturbances', 'receiving_blood_transfusion', 'receiving_unsterile_injections', 'coma', 'stomach_bleeding', 'distention_of_abdomen', 'history_of_alcohol_consumption', 'fluid_overload.1', 'blood_in_sputum', 'prominent_veins_on_calf', 'palpitations', 'painful_walking', 'pus_filled_pimples', 'blackheads', 'scurring', 'skin_peeling', 'silver_like_dusting', 'small_dents_in_nails', 'inflammatory_nails', 'blister', 'red_sore_around_nose', 'yellow_crust_ooze']\n"
          ]
        }
      ],
      "source": [
        "# Ambil semua kolom kecuali kolom target\n",
        "features = [col for col in dataset.columns if col != 'prognosis']\n",
        "print(\"Daftar fitur (tanpa kolom target):\", features)"
      ]
    },
    {
      "cell_type": "code",
      "execution_count": 25,
      "metadata": {
        "colab": {
          "base_uri": "https://localhost:8080/"
        },
        "id": "so4uHI0HXbwv",
        "outputId": "ee4e2982-0c7a-42b7-abbf-d8d38feab9d9"
      },
      "outputs": [
        {
          "output_type": "stream",
          "name": "stdout",
          "text": [
            "['Fungal Infection' 'Allergy' 'GERD' 'Chronic Cholestasis' 'Drug Reaction'\n",
            " 'Peptic Ulcer Disease' 'AIDS' 'Diabetes ' 'Gastroenteritis'\n",
            " 'Bronchial Asthma' 'Hypertension ' 'Migraine' 'Cervical Spondylosis'\n",
            " 'Paralysis (brain hemorrhage)' 'Jaundice' 'Malaria' 'Chickenpox' 'Dengue'\n",
            " 'Typhoid' 'Hepatitis A' 'Hepatitis B' 'Hepatitis C' 'Hepatitis D'\n",
            " 'Hepatitis E' 'Alcoholic Hepatitis' 'Tuberculosis' 'Common Cold'\n",
            " 'Pneumonia' 'Dimorphic Hemmorhoids (piles)' 'Heart Attack'\n",
            " 'Varicose Veins' 'Hypothyroidism' 'Hyperthyroidism' 'Hypoglycemia'\n",
            " 'Osteoarthritis' 'Arthritis' 'Vertigo' 'Acne' 'Urinary Tract Infection'\n",
            " 'Psoriasis' 'Impetigo']\n"
          ]
        }
      ],
      "source": [
        "penyakit = dataset['prognosis'].unique()\n",
        "print(penyakit)"
      ]
    },
    {
      "cell_type": "code",
      "execution_count": 26,
      "metadata": {
        "colab": {
          "base_uri": "https://localhost:8080/",
          "height": 114,
          "referenced_widgets": [
            "a01c13c7d424447eb25b8877549d33d8",
            "8eb1e2d43ef94cd7b670b1d64f07d4d1",
            "c21f862808d64c05994be1aa7094ea4f",
            "09ce880358dd4490955bccc2c588aeaa",
            "82da2d37fbfe42459065d1ce41c2e940",
            "ace79062aeec46e6a4bc30ab0fb01e0d",
            "8dd73fc239624622bcfe6658af91d244",
            "535d33de31d745919c9772bb912043ac"
          ]
        },
        "id": "cr3gUTteXeht",
        "outputId": "e7ac2d55-7d7b-400c-9b19-b726ff9ca04d"
      },
      "outputs": [
        {
          "output_type": "display_data",
          "data": {
            "text/plain": [
              "Textarea(value='', description='Gejala:', layout=Layout(width='100%'), placeholder='Masukkan nama gejala, dipi…"
            ],
            "application/vnd.jupyter.widget-view+json": {
              "version_major": 2,
              "version_minor": 0,
              "model_id": "a01c13c7d424447eb25b8877549d33d8"
            }
          },
          "metadata": {}
        },
        {
          "output_type": "display_data",
          "data": {
            "text/plain": [
              "Button(description='Prediksi', style=ButtonStyle())"
            ],
            "application/vnd.jupyter.widget-view+json": {
              "version_major": 2,
              "version_minor": 0,
              "model_id": "09ce880358dd4490955bccc2c588aeaa"
            }
          },
          "metadata": {}
        },
        {
          "output_type": "display_data",
          "data": {
            "text/plain": [
              "Output()"
            ],
            "application/vnd.jupyter.widget-view+json": {
              "version_major": 2,
              "version_minor": 0,
              "model_id": "8dd73fc239624622bcfe6658af91d244"
            }
          },
          "metadata": {}
        }
      ],
      "source": [
        "from IPython.display import display\n",
        "import ipywidgets as widgets\n",
        "import numpy as np\n",
        "import pandas as pd\n",
        "\n",
        "# Mendapatkan daftar fitur dan nama penyakit\n",
        "features = X.columns  # X adalah DataFrame fitur dari dataset\n",
        "penyakit = disease_classes  # Nama kelas penyakit dari OneHotEncoder\n",
        "\n",
        "# Fungsi untuk memproses input menjadi array dengan panjang sesuai jumlah fitur\n",
        "def process_input(input_features, all_features):\n",
        "    \"\"\"\n",
        "    Memproses input gejala menjadi array 2D untuk prediksi.\n",
        "    Gejala yang tidak diinput diberi nilai 0.\n",
        "    \"\"\"\n",
        "    processed_input = [1 if feature in input_features else 0 for feature in all_features]\n",
        "    return np.array([processed_input])  # Menambahkan dimensi batch\n",
        "\n",
        "# Text Area untuk Input Gejala\n",
        "text_area = widgets.Textarea(\n",
        "    placeholder='Masukkan nama gejala, dipisahkan dengan koma, misal: feature1,feature2',\n",
        "    description='Gejala:',\n",
        "    layout=widgets.Layout(width='100%')\n",
        ")\n",
        "\n",
        "# Tombol Prediksi\n",
        "button = widgets.Button(description='Prediksi')\n",
        "\n",
        "# Output Area\n",
        "output = widgets.Output()\n",
        "\n",
        "# Fungsi untuk Menangani Klik Tombol\n",
        "def on_button_click(b):\n",
        "    with output:\n",
        "        output.clear_output()  # Hapus output sebelumnya\n",
        "        input_text = text_area.value.strip()\n",
        "        input_features = [f.strip() for f in input_text.split(',') if f.strip()]\n",
        "        print(\"Gejala yang dimasukkan:\", input_features)\n",
        "\n",
        "        # Proses input menjadi array (otomatis panjang 131, dengan nilai 0 untuk yang tidak diinput)\n",
        "        X_test = process_input(input_features, features)\n",
        "        print(\"Array Input Gejala:\", X_test)\n",
        "\n",
        "        # Lakukan prediksi\n",
        "        prediction = model.predict(X_test)  # Menggunakan model DNN\n",
        "        print(\"Hasil Prediksi Probabilitas:\", prediction)\n",
        "\n",
        "        # Menampilkan hasil prediksi\n",
        "        predicted_index = np.argmax(prediction)  # Indeks kelas dengan probabilitas tertinggi\n",
        "        predicted_disease = penyakit[predicted_index]  # Nama penyakit berdasarkan indeks\n",
        "\n",
        "        # Tampilkan hasil\n",
        "        print(\"Hasil Prediksi:\", predicted_disease)\n",
        "\n",
        "button.on_click(on_button_click)\n",
        "\n",
        "# Tampilkan Form dan Output\n",
        "display(text_area, button, output)\n"
      ]
    },
    {
      "cell_type": "code",
      "execution_count": 27,
      "metadata": {
        "id": "ZRadZIIQXmHJ"
      },
      "outputs": [],
      "source": [
        "export_dir = './saved_model'\n",
        "\n",
        "tf.saved_model.save(model, export_dir)"
      ]
    },
    {
      "cell_type": "code",
      "execution_count": 28,
      "metadata": {
        "id": "v4ex837junTm"
      },
      "outputs": [],
      "source": [
        "# EXERCISE: Use the TFLiteConverter SavedModel API to initialize the converter\n",
        "# UNQ_C5\n",
        "# GRADED CODE: save_model\n",
        "\n",
        "converter = tf.lite.TFLiteConverter.from_saved_model(export_dir)\n",
        "\n",
        "# Set the optimzations\n",
        "converter.optimizations = [tf.lite.Optimize.DEFAULT]"
      ]
    },
    {
      "cell_type": "code",
      "execution_count": 29,
      "metadata": {
        "id": "aGBmIii9wjgS"
      },
      "outputs": [],
      "source": [
        "# Invoke the converter to finally generate the TFLite model\n",
        "tflite_model = converter.convert()"
      ]
    },
    {
      "cell_type": "code",
      "source": [
        "import pathlib\n",
        "tflite_model_file = pathlib.Path('./model.tflite')\n",
        "tflite_model_file.write_bytes(tflite_model)"
      ],
      "metadata": {
        "colab": {
          "base_uri": "https://localhost:8080/"
        },
        "id": "p4RyOMZc5a6e",
        "outputId": "a55f0af3-d061-40d7-9f96-1e268bbc6d48"
      },
      "execution_count": 31,
      "outputs": [
        {
          "output_type": "execute_result",
          "data": {
            "text/plain": [
              "30944"
            ]
          },
          "metadata": {},
          "execution_count": 31
        }
      ]
    },
    {
      "cell_type": "code",
      "source": [],
      "metadata": {
        "id": "mEjgQhFt523N"
      },
      "execution_count": null,
      "outputs": []
    }
  ],
  "metadata": {
    "colab": {
      "provenance": [],
      "gpuType": "V28"
    },
    "kernelspec": {
      "display_name": "Python 3",
      "name": "python3"
    },
    "language_info": {
      "name": "python"
    },
    "widgets": {
      "application/vnd.jupyter.widget-state+json": {
        "a01c13c7d424447eb25b8877549d33d8": {
          "model_module": "@jupyter-widgets/controls",
          "model_name": "TextareaModel",
          "model_module_version": "1.5.0",
          "state": {
            "_dom_classes": [],
            "_model_module": "@jupyter-widgets/controls",
            "_model_module_version": "1.5.0",
            "_model_name": "TextareaModel",
            "_view_count": null,
            "_view_module": "@jupyter-widgets/controls",
            "_view_module_version": "1.5.0",
            "_view_name": "TextareaView",
            "continuous_update": true,
            "description": "Gejala:",
            "description_tooltip": null,
            "disabled": false,
            "layout": "IPY_MODEL_8eb1e2d43ef94cd7b670b1d64f07d4d1",
            "placeholder": "Masukkan nama gejala, dipisahkan dengan koma, misal: feature1,feature2",
            "rows": null,
            "style": "IPY_MODEL_c21f862808d64c05994be1aa7094ea4f",
            "value": ""
          }
        },
        "8eb1e2d43ef94cd7b670b1d64f07d4d1": {
          "model_module": "@jupyter-widgets/base",
          "model_name": "LayoutModel",
          "model_module_version": "1.2.0",
          "state": {
            "_model_module": "@jupyter-widgets/base",
            "_model_module_version": "1.2.0",
            "_model_name": "LayoutModel",
            "_view_count": null,
            "_view_module": "@jupyter-widgets/base",
            "_view_module_version": "1.2.0",
            "_view_name": "LayoutView",
            "align_content": null,
            "align_items": null,
            "align_self": null,
            "border": null,
            "bottom": null,
            "display": null,
            "flex": null,
            "flex_flow": null,
            "grid_area": null,
            "grid_auto_columns": null,
            "grid_auto_flow": null,
            "grid_auto_rows": null,
            "grid_column": null,
            "grid_gap": null,
            "grid_row": null,
            "grid_template_areas": null,
            "grid_template_columns": null,
            "grid_template_rows": null,
            "height": null,
            "justify_content": null,
            "justify_items": null,
            "left": null,
            "margin": null,
            "max_height": null,
            "max_width": null,
            "min_height": null,
            "min_width": null,
            "object_fit": null,
            "object_position": null,
            "order": null,
            "overflow": null,
            "overflow_x": null,
            "overflow_y": null,
            "padding": null,
            "right": null,
            "top": null,
            "visibility": null,
            "width": "100%"
          }
        },
        "c21f862808d64c05994be1aa7094ea4f": {
          "model_module": "@jupyter-widgets/controls",
          "model_name": "DescriptionStyleModel",
          "model_module_version": "1.5.0",
          "state": {
            "_model_module": "@jupyter-widgets/controls",
            "_model_module_version": "1.5.0",
            "_model_name": "DescriptionStyleModel",
            "_view_count": null,
            "_view_module": "@jupyter-widgets/base",
            "_view_module_version": "1.2.0",
            "_view_name": "StyleView",
            "description_width": ""
          }
        },
        "09ce880358dd4490955bccc2c588aeaa": {
          "model_module": "@jupyter-widgets/controls",
          "model_name": "ButtonModel",
          "model_module_version": "1.5.0",
          "state": {
            "_dom_classes": [],
            "_model_module": "@jupyter-widgets/controls",
            "_model_module_version": "1.5.0",
            "_model_name": "ButtonModel",
            "_view_count": null,
            "_view_module": "@jupyter-widgets/controls",
            "_view_module_version": "1.5.0",
            "_view_name": "ButtonView",
            "button_style": "",
            "description": "Prediksi",
            "disabled": false,
            "icon": "",
            "layout": "IPY_MODEL_82da2d37fbfe42459065d1ce41c2e940",
            "style": "IPY_MODEL_ace79062aeec46e6a4bc30ab0fb01e0d",
            "tooltip": ""
          }
        },
        "82da2d37fbfe42459065d1ce41c2e940": {
          "model_module": "@jupyter-widgets/base",
          "model_name": "LayoutModel",
          "model_module_version": "1.2.0",
          "state": {
            "_model_module": "@jupyter-widgets/base",
            "_model_module_version": "1.2.0",
            "_model_name": "LayoutModel",
            "_view_count": null,
            "_view_module": "@jupyter-widgets/base",
            "_view_module_version": "1.2.0",
            "_view_name": "LayoutView",
            "align_content": null,
            "align_items": null,
            "align_self": null,
            "border": null,
            "bottom": null,
            "display": null,
            "flex": null,
            "flex_flow": null,
            "grid_area": null,
            "grid_auto_columns": null,
            "grid_auto_flow": null,
            "grid_auto_rows": null,
            "grid_column": null,
            "grid_gap": null,
            "grid_row": null,
            "grid_template_areas": null,
            "grid_template_columns": null,
            "grid_template_rows": null,
            "height": null,
            "justify_content": null,
            "justify_items": null,
            "left": null,
            "margin": null,
            "max_height": null,
            "max_width": null,
            "min_height": null,
            "min_width": null,
            "object_fit": null,
            "object_position": null,
            "order": null,
            "overflow": null,
            "overflow_x": null,
            "overflow_y": null,
            "padding": null,
            "right": null,
            "top": null,
            "visibility": null,
            "width": null
          }
        },
        "ace79062aeec46e6a4bc30ab0fb01e0d": {
          "model_module": "@jupyter-widgets/controls",
          "model_name": "ButtonStyleModel",
          "model_module_version": "1.5.0",
          "state": {
            "_model_module": "@jupyter-widgets/controls",
            "_model_module_version": "1.5.0",
            "_model_name": "ButtonStyleModel",
            "_view_count": null,
            "_view_module": "@jupyter-widgets/base",
            "_view_module_version": "1.2.0",
            "_view_name": "StyleView",
            "button_color": null,
            "font_weight": ""
          }
        },
        "8dd73fc239624622bcfe6658af91d244": {
          "model_module": "@jupyter-widgets/output",
          "model_name": "OutputModel",
          "model_module_version": "1.0.0",
          "state": {
            "_dom_classes": [],
            "_model_module": "@jupyter-widgets/output",
            "_model_module_version": "1.0.0",
            "_model_name": "OutputModel",
            "_view_count": null,
            "_view_module": "@jupyter-widgets/output",
            "_view_module_version": "1.0.0",
            "_view_name": "OutputView",
            "layout": "IPY_MODEL_535d33de31d745919c9772bb912043ac",
            "msg_id": "",
            "outputs": []
          }
        },
        "535d33de31d745919c9772bb912043ac": {
          "model_module": "@jupyter-widgets/base",
          "model_name": "LayoutModel",
          "model_module_version": "1.2.0",
          "state": {
            "_model_module": "@jupyter-widgets/base",
            "_model_module_version": "1.2.0",
            "_model_name": "LayoutModel",
            "_view_count": null,
            "_view_module": "@jupyter-widgets/base",
            "_view_module_version": "1.2.0",
            "_view_name": "LayoutView",
            "align_content": null,
            "align_items": null,
            "align_self": null,
            "border": null,
            "bottom": null,
            "display": null,
            "flex": null,
            "flex_flow": null,
            "grid_area": null,
            "grid_auto_columns": null,
            "grid_auto_flow": null,
            "grid_auto_rows": null,
            "grid_column": null,
            "grid_gap": null,
            "grid_row": null,
            "grid_template_areas": null,
            "grid_template_columns": null,
            "grid_template_rows": null,
            "height": null,
            "justify_content": null,
            "justify_items": null,
            "left": null,
            "margin": null,
            "max_height": null,
            "max_width": null,
            "min_height": null,
            "min_width": null,
            "object_fit": null,
            "object_position": null,
            "order": null,
            "overflow": null,
            "overflow_x": null,
            "overflow_y": null,
            "padding": null,
            "right": null,
            "top": null,
            "visibility": null,
            "width": null
          }
        }
      }
    },
    "accelerator": "TPU"
  },
  "nbformat": 4,
  "nbformat_minor": 0
}