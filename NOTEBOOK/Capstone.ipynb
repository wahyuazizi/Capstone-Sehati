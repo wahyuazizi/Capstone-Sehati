{
  "cells": [
    {
      "cell_type": "code",
      "execution_count": null,
      "metadata": {
        "colab": {
          "base_uri": "https://localhost:8080/"
        },
        "id": "hJEwst2sV-aC",
        "outputId": "ad5fb207-43dc-4fdb-90c6-25d28989f320"
      },
      "outputs": [
        {
          "output_type": "stream",
          "name": "stdout",
          "text": [
            "Mounted at /content/drive\n"
          ]
        }
      ],
      "source": [
        "from google.colab import drive\n",
        "drive.mount('/content/drive')"
      ]
    },
    {
      "cell_type": "code",
      "execution_count": null,
      "metadata": {
        "id": "SVqoymvRV_ha"
      },
      "outputs": [],
      "source": [
        "file_path = '/content/drive/MyDrive/CAPSTONE/symbipredict_2022.csv'\n"
      ]
    },
    {
      "cell_type": "code",
      "execution_count": null,
      "metadata": {
        "id": "g1XZjs3uWMCo"
      },
      "outputs": [],
      "source": [
        "import pandas as pd\n",
        "import tensorflow as tf\n",
        "from sklearn.preprocessing import OneHotEncoder\n",
        "import numpy as np\n",
        "import matplotlib.pyplot as plt\n",
        "\n",
        "from tensorflow.keras.models import Model\n",
        "from tensorflow.keras.layers import Dense, Input\n",
        "from sklearn.model_selection import train_test_split\n",
        "\n",
        "# Load dataset\n",
        "# file_path = 'path_to_your_dataset.csv'  # Ganti dengan path dataset Anda\n",
        "dataset = pd.read_csv(file_path)\n"
      ]
    },
    {
      "cell_type": "code",
      "execution_count": null,
      "metadata": {
        "colab": {
          "base_uri": "https://localhost:8080/"
        },
        "id": "qlSYRQu8r6XY",
        "outputId": "d54821e2-b302-488d-f95f-f140a1c3220f"
      },
      "outputs": [
        {
          "output_type": "stream",
          "name": "stdout",
          "text": [
            "Nama kolom setelah diperbaiki:\n",
            "Index(['itching', 'skin_rash', 'nodal_skin_eruptions', 'continuous_sneezing',\n",
            "       'shivering', 'chills', 'joint_pain', 'stomach_pain', 'acidity',\n",
            "       'ulcers_on_tongue',\n",
            "       ...\n",
            "       'blackheads', 'scurring', 'skin_peeling', 'silver_like_dusting',\n",
            "       'small_dents_in_nails', 'inflammatory_nails', 'blister',\n",
            "       'red_sore_around_nose', 'yellow_crust_ooze', 'prognosis'],\n",
            "      dtype='object', length=133)\n"
          ]
        }
      ],
      "source": [
        "# Mengganti spasi dengan underscore pada nama kolom\n",
        "dataset.columns = dataset.columns.str.replace(' ', '')\n",
        "\n",
        "# Simpan dataset yang telah diperbaiki\n",
        "dataset.to_csv('/content/drive/MyDrive/CAPSTONE/symbipredict_2022.csv', index=False)\n",
        "\n",
        "print(\"Nama kolom setelah diperbaiki:\")\n",
        "print(dataset.columns)"
      ]
    },
    {
      "cell_type": "code",
      "source": [
        "# Hitung jumlah nilai 1 di setiap kolom\n",
        "jumlah_1_per_kolom = dataset.sum(axis=0)\n",
        "\n",
        "# Cari kolom yang seluruh nilainya 0\n",
        "kolom_nol_semua = jumlah_1_per_kolom[jumlah_1_per_kolom == 0].index.tolist()\n",
        "\n",
        "# Hapus kolom yang seluruh nilainya 0\n",
        "data_bersih = dataset.drop(columns=kolom_nol_semua)\n",
        "\n",
        "# Tampilkan informasi\n",
        "print(\"Jumlah nilai 1 di setiap kolom:\")\n",
        "print(jumlah_1_per_kolom)\n",
        "print(f\"Jumlah kolom sebelum dibersihkan: {dataset.shape[1]}\")\n",
        "print(f\"Kolom yang dihapus: {kolom_nol_semua}\")\n",
        "print(f\"Jumlah kolom setelah dibersihkan: {data_bersih.shape[1]}\")\n",
        "\n",
        "# # Simpan dataset baru jika diperlukan\n",
        "# data_bersih.to_csv('dataset_bersih.csv', index=False)"
      ],
      "metadata": {
        "colab": {
          "base_uri": "https://localhost:8080/"
        },
        "id": "0AGAOygBkG6Y",
        "outputId": "ce5e76be-fa2f-4ccc-cd42-ab114d60aeac"
      },
      "execution_count": null,
      "outputs": [
        {
          "output_type": "stream",
          "name": "stdout",
          "text": [
            "Jumlah nilai 1 di setiap kolom:\n",
            "itching                                                               684\n",
            "skin_rash                                                             793\n",
            "nodal_skin_eruptions                                                  109\n",
            "continuous_sneezing                                                   224\n",
            "shivering                                                             109\n",
            "                                              ...                        \n",
            "inflammatory_nails                                                    115\n",
            "blister                                                               115\n",
            "red_sore_around_nose                                                  115\n",
            "yellow_crust_ooze                                                     115\n",
            "prognosis               Fungal InfectionFungal InfectionFungal Infecti...\n",
            "Length: 133, dtype: object\n",
            "Jumlah kolom sebelum dibersihkan: 133\n",
            "Kolom yang dihapus: ['fluid_overload']\n",
            "Jumlah kolom setelah dibersihkan: 132\n"
          ]
        }
      ]
    },
    {
      "cell_type": "code",
      "source": [
        "# Daftar nama kolom baru dalam Bahasa Indonesia\n",
        "nama_kolom_baru = ['gatal', 'ruam kulit', 'erupsi kulit nodal', 'bersin terus menerus', 'menggigil', 'kedinginan', 'nyeri sendi', 'nyeri perut', 'asam lambung', 'luka di lidah', 'penyusutan otot', 'muntah', 'sensasi terbakar saat buang air kecil', 'bercak saat buang air kecil', 'kelelahan', 'penambahan berat badan', 'kecemasan', 'tangan dan kaki dingin', 'perubahan mood', 'penurunan berat badan', 'gelisah', 'lesu', 'bercak di tenggorokan', 'gula darah tidak teratur', 'batuk', 'demam tinggi', 'mata cekung', 'sesak napas', 'berkeringat', 'dehidrasi', 'gangguan pencernaan', 'sakit kepala', 'kulit kekuningan', 'urine gelap', 'mual', 'hilang nafsu makan', 'nyeri di belakang mata', 'sakit punggung', 'sembelit', 'sakit perut', 'diare', 'demam ringan', 'urine kuning', 'mata kuning', 'gagal hati akut', 'pembengkakan perut', 'kelenjar getah bening bengkak', 'kelelahan', 'penglihatan buram', 'dahak', 'iritasi tenggorokan', 'mata merah', 'tekanan sinus', 'pilek', 'hidung tersumbat', 'nyeri dada', 'kelemahan di anggota tubuh', 'detak jantung cepat', 'nyeri saat buang air besar', 'nyeri di area anus', 'tinja berdarah', 'iritasi di anus', 'nyeri leher', 'pusing', 'kram', 'memar', 'obesitas', 'kaki bengkak', 'pembuluh darah bengkak', 'wajah dan mata bengkak', 'tiroid membesar', 'kuku rapuh', 'pembengkakan ekstremitas', 'rasa lapar berlebihan', 'kontak di luar nikah', 'bibir kering dan bertingling', 'bicara cadel', 'nyeri lutut', 'nyeri sendi pinggul', 'kelemahan otot', 'leher kaku', 'sendi bengkak', 'kekakuan pergerakan', 'gerakan berputar', 'kehilangan keseimbangan', 'ketidakstabilan', 'kelemahan satu sisi tubuh', 'hilang indra penciuman', 'ketidaknyamanan kandung kemih', 'bau urine menyengat', 'rasa ingin buang air kecil terus', 'gas keluar', 'gatal dalam', 'penampilan toksik', 'depresi', 'iritabilitas', 'nyeri otot', 'altered sensorium', 'bintik merah di tubuh', 'nyeri perut', 'menstruasi tidak normal', 'bercak dischromic', 'mata berair', 'nafsu makan meningkat', 'poliuria', 'riwayat keluarga', 'dahak lendir', 'dahak berkarat', 'kurang konsentrasi', 'gangguan penglihatan', 'menerima transfusi darah', 'menerima suntikan tidak steril', 'koma', 'pendarahan lambung', 'pembesaran perut', 'riwayat konsumsi alkohol', 'kelebihan cairan', 'darah di dahak', 'vena menonjol di betis', 'palpitasi', 'nyeri saat berjalan', 'jerawat bernanah', 'komedo', 'bekas luka', 'kulit mengelupas', 'debu seperti perak', 'lekukan kecil di kuku', 'kuku meradang', 'lepuh', 'luka merah di hidung', 'kerak kuning mengalir', 'diagnosa']\n",
        "\n",
        "# Mengubah nama kolom dataset\n",
        "data_bersih.columns = nama_kolom_baru\n",
        "\n",
        "# Simpan dataset yang telah diperbaiki\n",
        "data_bersih.to_csv('/content/drive/MyDrive/CAPSTONE/symbipredict_2022.csv', index=False)\n",
        "\n",
        "print(\"Nama kolom berhasil diubah dan disimpan ke file baru!\")"
      ],
      "metadata": {
        "colab": {
          "base_uri": "https://localhost:8080/"
        },
        "id": "vkZBvGZ8nIk4",
        "outputId": "a70ff5ba-07b8-414c-b27c-7cd452b107d2"
      },
      "execution_count": null,
      "outputs": [
        {
          "output_type": "stream",
          "name": "stdout",
          "text": [
            "Nama kolom berhasil diubah dan disimpan ke file baru!\n"
          ]
        }
      ]
    },
    {
      "cell_type": "code",
      "source": [
        "print(data_bersih['diagnosa'].unique())"
      ],
      "metadata": {
        "colab": {
          "base_uri": "https://localhost:8080/"
        },
        "id": "VPZ75weipQwj",
        "outputId": "04282cde-4c2e-4454-c2e3-ce4be2e987e5"
      },
      "execution_count": null,
      "outputs": [
        {
          "output_type": "stream",
          "name": "stdout",
          "text": [
            "['Fungal Infection' 'Allergy' 'GERD' 'Chronic Cholestasis' 'Drug Reaction'\n",
            " 'Peptic Ulcer Disease' 'AIDS' 'Diabetes ' 'Gastroenteritis'\n",
            " 'Bronchial Asthma' 'Hypertension ' 'Migraine' 'Cervical Spondylosis'\n",
            " 'Paralysis (brain hemorrhage)' 'Jaundice' 'Malaria' 'Chickenpox' 'Dengue'\n",
            " 'Typhoid' 'Hepatitis A' 'Hepatitis B' 'Hepatitis C' 'Hepatitis D'\n",
            " 'Hepatitis E' 'Alcoholic Hepatitis' 'Tuberculosis' 'Common Cold'\n",
            " 'Pneumonia' 'Dimorphic Hemmorhoids (piles)' 'Heart Attack'\n",
            " 'Varicose Veins' 'Hypothyroidism' 'Hyperthyroidism' 'Hypoglycemia'\n",
            " 'Osteoarthritis' 'Arthritis' 'Vertigo' 'Acne' 'Urinary Tract Infection'\n",
            " 'Psoriasis' 'Impetigo']\n"
          ]
        }
      ]
    },
    {
      "cell_type": "code",
      "source": [
        "# Definisikan dictionary untuk penerjemahan\n",
        "prognosis_mapping = {\n",
        "    'Fungal Infection': 'Infeksi Jamur',\n",
        "    'Allergy': 'Alergi',\n",
        "    'GERD': 'Penyakit Refluks Gastroesofagus (GERD)',\n",
        "    'Chronic Cholestasis': 'Cholestasis Kronis',\n",
        "    'Drug Reaction': 'Reaksi Obat',\n",
        "    'Peptic Ulcer Disease': 'Penyakit Tukak Lambung',\n",
        "    'AIDS': 'AIDS',\n",
        "    'Diabetes': 'Diabetes',\n",
        "    'Gastroenteritis': 'Gastroenteritis',\n",
        "    'Bronchial Asthma': 'Asma Bronkial',\n",
        "    'Hypertension': 'Hipertensi',\n",
        "    'Migraine': 'Migrain',\n",
        "    'Cervical Spondylosis': 'Spondilosis Servikal',\n",
        "    'Paralysis (brain hemorrhage)': 'Paralisia (perdarahan otak)',\n",
        "    'Jaundice': 'Penyakit Kuning',\n",
        "    'Malaria': 'Malaria',\n",
        "    'Chickenpox': 'Cacar Air',\n",
        "    'Dengue': 'Dengue',\n",
        "    'Typhoid': 'Tifus',\n",
        "    'Hepatitis A': 'Hepatitis A',\n",
        "    'Hepatitis B': 'Hepatitis B',\n",
        "    'Hepatitis C': 'Hepatitis C',\n",
        "    'Hepatitis D': 'Hepatitis D',\n",
        "    'Hepatitis E': 'Hepatitis E',\n",
        "    'Alcoholic Hepatitis': 'Hepatitis Alkoholik',\n",
        "    'Tuberculosis': 'Tuberkulosis',\n",
        "    'Common Cold': 'Flu Biasa',\n",
        "    'Pneumonia': 'Pneumonia',\n",
        "    'Dimorphic Hemmorhoids (piles)': 'Wasir Dimorfik',\n",
        "    'Heart Attack': 'Serangan Jantung',\n",
        "    'Varicose Veins': 'Varises',\n",
        "    'Hypothyroidism': 'Hipotiroidisme',\n",
        "    'Hyperthyroidism': 'Hipertiroidisme',\n",
        "    'Hypoglycemia': 'Hipoglikemia',\n",
        "    'Osteoarthritis': 'Osteoartritis',\n",
        "    'Arthritis': 'Artritis',\n",
        "    'Vertigo': 'Vertigo',\n",
        "    'Acne': 'Jerawat',\n",
        "    'Urinary Tract Infection': 'Infeksi Saluran Kemih',\n",
        "    'Psoriasis': 'Psoriasis',\n",
        "    'Impetigo': 'Impetigo'\n",
        "}\n",
        "\n",
        "# Ganti nilai prognosis menjadi dalam Bahasa Indonesia\n",
        "data_bersih['diagnosa'] = data_bersih['diagnosa'].replace(prognosis_mapping)\n",
        "\n",
        "# Tampilkan beberapa baris dari dataset untuk memastikan perubahan\n",
        "print(data_bersih[['diagnosa']].head())\n",
        "\n",
        "# Simpan dataset yang telah diperbaiki\n",
        "data_bersih.to_csv('/content/drive/MyDrive/CAPSTONE/datasetpenyakit_fixed.csv', index=False)"
      ],
      "metadata": {
        "colab": {
          "base_uri": "https://localhost:8080/"
        },
        "id": "TkyeWm6ep8WZ",
        "outputId": "707b068f-a424-46f9-bada-d24ab911dc13"
      },
      "execution_count": null,
      "outputs": [
        {
          "output_type": "stream",
          "name": "stdout",
          "text": [
            "        diagnosa\n",
            "0  Infeksi Jamur\n",
            "1  Infeksi Jamur\n",
            "2  Infeksi Jamur\n",
            "3  Infeksi Jamur\n",
            "4  Infeksi Jamur\n"
          ]
        }
      ]
    },
    {
      "cell_type": "code",
      "execution_count": null,
      "metadata": {
        "colab": {
          "base_uri": "https://localhost:8080/"
        },
        "id": "tRqv-Zg7sOPA",
        "outputId": "c8010479-d993-4c63-83c5-82ed9ec34bac"
      },
      "outputs": [
        {
          "output_type": "stream",
          "name": "stdout",
          "text": [
            "Disease Classes: ['AIDS' 'Alergi' 'Artritis' 'Asma Bronkial' 'Cacar Air'\n",
            " 'Cholestasis Kronis' 'Dengue' 'Diabetes ' 'Flu Biasa' 'Gastroenteritis'\n",
            " 'Hepatitis A' 'Hepatitis Alkoholik' 'Hepatitis B' 'Hepatitis C'\n",
            " 'Hepatitis D' 'Hepatitis E' 'Hipertiroidisme' 'Hipoglikemia'\n",
            " 'Hipotiroidisme' 'Hypertension ' 'Impetigo' 'Infeksi Jamur'\n",
            " 'Infeksi Saluran Kemih' 'Jerawat' 'Malaria' 'Migrain' 'Osteoartritis'\n",
            " 'Paralisia (perdarahan otak)' 'Penyakit Kuning'\n",
            " 'Penyakit Refluks Gastroesofagus (GERD)' 'Penyakit Tukak Lambung'\n",
            " 'Pneumonia' 'Psoriasis' 'Reaksi Obat' 'Serangan Jantung'\n",
            " 'Spondilosis Servikal' 'Tifus' 'Tuberkulosis' 'Varises' 'Vertigo'\n",
            " 'Wasir Dimorfik']\n"
          ]
        }
      ],
      "source": [
        "dataset = data_bersih\n",
        "# Pisahkan fitur dan target\n",
        "X = dataset.drop(columns=[\"diagnosa\"])\n",
        "y = dataset[\"diagnosa\"]\n",
        "\n",
        "# One-hot encode target\n",
        "encoder = OneHotEncoder(sparse_output=False)\n",
        "y_encoded = encoder.fit_transform(y.values.reshape(-1, 1))\n",
        "\n",
        "# Split data\n",
        "X_train, X_test, y_train, y_test = train_test_split(X, y_encoded, test_size=0.2, random_state=42, stratify=y)\n",
        "\n",
        "# Mendapatkan nama kelas\n",
        "disease_classes = encoder.categories_[0]\n",
        "print(\"Disease Classes:\", disease_classes)\n"
      ]
    },
    {
      "cell_type": "code",
      "source": [
        "input_layer = Input(shape=(len(X .columns),))\n",
        "X = Dense(128, activation='relu')(input_layer)\n",
        "X = Dense(64, activation='relu')(X)\n",
        "output_layer = Dense(41, activation='softmax')(X)\n",
        "\n",
        "model = Model(inputs=input_layer, outputs=output_layer)\n",
        "model.summary()"
      ],
      "metadata": {
        "colab": {
          "base_uri": "https://localhost:8080/"
        },
        "id": "C2MaReM22MNp",
        "outputId": "40c3c39f-f615-4df7-8d38-75855bb450ff"
      },
      "execution_count": null,
      "outputs": [
        {
          "output_type": "stream",
          "name": "stdout",
          "text": [
            "Model: \"model\"\n",
            "_________________________________________________________________\n",
            " Layer (type)                Output Shape              Param #   \n",
            "=================================================================\n",
            " input_1 (InputLayer)        [(None, 131)]             0         \n",
            "                                                                 \n",
            " dense (Dense)               (None, 128)               16896     \n",
            "                                                                 \n",
            " dense_1 (Dense)             (None, 64)                8256      \n",
            "                                                                 \n",
            " dense_2 (Dense)             (None, 41)                2665      \n",
            "                                                                 \n",
            "=================================================================\n",
            "Total params: 27817 (108.66 KB)\n",
            "Trainable params: 27817 (108.66 KB)\n",
            "Non-trainable params: 0 (0.00 Byte)\n",
            "_________________________________________________________________\n"
          ]
        }
      ]
    },
    {
      "cell_type": "code",
      "source": [
        "optimizer = tf.keras.optimizers.Adam(learning_rate=0.001)\n",
        "model.compile(optimizer=optimizer, loss='categorical_crossentropy', metrics=['accuracy'])"
      ],
      "metadata": {
        "id": "J6PXVpEQ2oAN"
      },
      "execution_count": null,
      "outputs": []
    },
    {
      "cell_type": "code",
      "source": [
        "history = model.fit(X_train, y_train,\n",
        "                    validation_split=0.2,\n",
        "                    epochs=15,\n",
        "                    batch_size=32,\n",
        "                    verbose=1)"
      ],
      "metadata": {
        "colab": {
          "base_uri": "https://localhost:8080/"
        },
        "id": "Lzg8Lk5P3kxj",
        "outputId": "479de8e7-bd17-4393-deee-8725f5fc9214"
      },
      "execution_count": null,
      "outputs": [
        {
          "output_type": "stream",
          "name": "stdout",
          "text": [
            "Epoch 1/15\n",
            "100/100 [==============================] - 1s 4ms/step - loss: 2.2580 - accuracy: 0.7776 - val_loss: 0.4621 - val_accuracy: 1.0000\n",
            "Epoch 2/15\n",
            "100/100 [==============================] - 0s 2ms/step - loss: 0.1302 - accuracy: 1.0000 - val_loss: 0.0433 - val_accuracy: 1.0000\n",
            "Epoch 3/15\n",
            "100/100 [==============================] - 0s 2ms/step - loss: 0.0240 - accuracy: 1.0000 - val_loss: 0.0176 - val_accuracy: 1.0000\n",
            "Epoch 4/15\n",
            "100/100 [==============================] - 0s 2ms/step - loss: 0.0112 - accuracy: 1.0000 - val_loss: 0.0097 - val_accuracy: 1.0000\n",
            "Epoch 5/15\n",
            "100/100 [==============================] - 0s 2ms/step - loss: 0.0067 - accuracy: 1.0000 - val_loss: 0.0066 - val_accuracy: 1.0000\n",
            "Epoch 6/15\n",
            "100/100 [==============================] - 0s 2ms/step - loss: 0.0045 - accuracy: 1.0000 - val_loss: 0.0045 - val_accuracy: 1.0000\n",
            "Epoch 7/15\n",
            "100/100 [==============================] - 0s 2ms/step - loss: 0.0032 - accuracy: 1.0000 - val_loss: 0.0034 - val_accuracy: 1.0000\n",
            "Epoch 8/15\n",
            "100/100 [==============================] - 0s 2ms/step - loss: 0.0025 - accuracy: 1.0000 - val_loss: 0.0026 - val_accuracy: 1.0000\n",
            "Epoch 9/15\n",
            "100/100 [==============================] - 0s 2ms/step - loss: 0.0019 - accuracy: 1.0000 - val_loss: 0.0021 - val_accuracy: 1.0000\n",
            "Epoch 10/15\n",
            "100/100 [==============================] - 0s 2ms/step - loss: 0.0015 - accuracy: 1.0000 - val_loss: 0.0017 - val_accuracy: 1.0000\n",
            "Epoch 11/15\n",
            "100/100 [==============================] - 0s 2ms/step - loss: 0.0012 - accuracy: 1.0000 - val_loss: 0.0014 - val_accuracy: 1.0000\n",
            "Epoch 12/15\n",
            "100/100 [==============================] - 0s 2ms/step - loss: 0.0010 - accuracy: 1.0000 - val_loss: 0.0013 - val_accuracy: 1.0000\n",
            "Epoch 13/15\n",
            "100/100 [==============================] - 0s 2ms/step - loss: 8.8733e-04 - accuracy: 1.0000 - val_loss: 0.0011 - val_accuracy: 1.0000\n",
            "Epoch 14/15\n",
            "100/100 [==============================] - 0s 2ms/step - loss: 7.5229e-04 - accuracy: 1.0000 - val_loss: 9.2765e-04 - val_accuracy: 1.0000\n",
            "Epoch 15/15\n",
            "100/100 [==============================] - 0s 2ms/step - loss: 6.4804e-04 - accuracy: 1.0000 - val_loss: 8.0167e-04 - val_accuracy: 1.0000\n"
          ]
        }
      ]
    },
    {
      "cell_type": "code",
      "source": [
        "# Evaluate model\n",
        "test_loss, test_accuracy = model.evaluate(X_test, y_test, verbose=0)\n",
        "print(f\"Test Loss: {test_loss}, Test Accuracy: {test_accuracy}\")"
      ],
      "metadata": {
        "colab": {
          "base_uri": "https://localhost:8080/"
        },
        "id": "htLHPuem7bZc",
        "outputId": "fed7d732-a1da-45e5-b6e3-f3b15304745b"
      },
      "execution_count": null,
      "outputs": [
        {
          "output_type": "stream",
          "name": "stdout",
          "text": [
            "Test Loss: 0.0008410533191636205, Test Accuracy: 1.0\n"
          ]
        }
      ]
    },
    {
      "cell_type": "code",
      "execution_count": null,
      "metadata": {
        "id": "E7YR1oEJW34a",
        "colab": {
          "base_uri": "https://localhost:8080/",
          "height": 927
        },
        "outputId": "d5fb92db-73c0-48aa-f4ae-8ba68ad01f9e"
      },
      "outputs": [
        {
          "output_type": "display_data",
          "data": {
            "text/plain": [
              "<Figure size 640x480 with 1 Axes>"
            ],
            "image/png": "[encoded data removed]"
          },
          "metadata": {}
        },
        {
          "output_type": "display_data",
          "data": {
            "text/plain": [
              "<Figure size 640x480 with 1 Axes>"
            ],
            "image/png": "[encoded data removed]"
          },
          "metadata": {}
        }
      ],
      "source": [
        "import matplotlib.pyplot as plt\n",
        "\n",
        "# Plot training history\n",
        "plt.plot(history.history['accuracy'], label='Train Accuracy')\n",
        "plt.plot(history.history['val_accuracy'], label='Validation Accuracy')\n",
        "plt.title('Model Accuracy')\n",
        "plt.xlabel('Epoch')\n",
        "plt.ylabel('Accuracy')\n",
        "plt.legend()\n",
        "plt.show()\n",
        "\n",
        "plt.plot(history.history['loss'], label='Train Loss')\n",
        "plt.plot(history.history['val_loss'], label='Validation Loss')\n",
        "plt.title('Model Loss')\n",
        "plt.xlabel('Epoch')\n",
        "plt.ylabel('Loss')\n",
        "plt.legend()\n",
        "plt.show()\n"
      ]
    },
    {
      "cell_type": "code",
      "execution_count": null,
      "metadata": {
        "id": "XI_3ZzJsXDv5",
        "colab": {
          "base_uri": "https://localhost:8080/"
        },
        "outputId": "38aac59a-4c51-49a4-c86f-b4532893d8db"
      },
      "outputs": [
        {
          "output_type": "stream",
          "name": "stdout",
          "text": [
            "1/1 [==============================] - 0s 76ms/step\n",
            "Predicted Disease: Infeksi Jamur\n"
          ]
        }
      ],
      "source": [
        "# Contoh input untuk prediksi\n",
        "# 'gatal','ruam_kulit','erupsi_kulit_nodal','bercak_dischromic'\n",
        "input_features = ['gatal','ruam_kulit','erupsi_kulit_nodal','bercak_dischromic']\n",
        "X_df = X_train.copy()\n",
        "X_sample = [1 if feature in input_features else 0 for feature in X_df.columns]\n",
        "\n",
        "# Prediksi\n",
        "X_sample = pd.DataFrame([X_sample])  # Ubah ke DataFrame\n",
        "prediction = model.predict(X_sample)\n",
        "\n",
        "# Tampilkan hasil\n",
        "predicted_class = disease_classes[prediction.argmax()]\n",
        "print(\"Predicted Disease:\", predicted_class)\n"
      ]
    },
    {
      "cell_type": "markdown",
      "metadata": {
        "id": "cSGBctAeXUXw"
      },
      "source": [
        "# TES"
      ]
    },
    {
      "cell_type": "code",
      "execution_count": null,
      "metadata": {
        "id": "0rBJ8fKJXUBJ",
        "colab": {
          "base_uri": "https://localhost:8080/"
        },
        "outputId": "2eb680ec-3a9d-4ca5-9ed4-fd1520cf1944"
      },
      "outputs": [
        {
          "output_type": "stream",
          "name": "stdout",
          "text": [
            "Daftar fitur (tanpa kolom target): ['gatal', 'ruam kulit', 'erupsi kulit nodal', 'bersin terus menerus', 'menggigil', 'kedinginan', 'nyeri sendi', 'nyeri perut', 'asam lambung', 'luka di lidah', 'penyusutan otot', 'muntah', 'sensasi terbakar saat buang air kecil', 'bercak saat buang air kecil', 'kelelahan', 'penambahan berat badan', 'kecemasan', 'tangan dan kaki dingin', 'perubahan mood', 'penurunan berat badan', 'gelisah', 'lesu', 'bercak di tenggorokan', 'gula darah tidak teratur', 'batuk', 'demam tinggi', 'mata cekung', 'sesak napas', 'berkeringat', 'dehidrasi', 'gangguan pencernaan', 'sakit kepala', 'kulit kekuningan', 'urine gelap', 'mual', 'hilang nafsu makan', 'nyeri di belakang mata', 'sakit punggung', 'sembelit', 'sakit perut', 'diare', 'demam ringan', 'urine kuning', 'mata kuning', 'gagal hati akut', 'pembengkakan perut', 'kelenjar getah bening bengkak', 'kelelahan', 'penglihatan buram', 'dahak', 'iritasi tenggorokan', 'mata merah', 'tekanan sinus', 'pilek', 'hidung tersumbat', 'nyeri dada', 'kelemahan di anggota tubuh', 'detak jantung cepat', 'nyeri saat buang air besar', 'nyeri di area anus', 'tinja berdarah', 'iritasi di anus', 'nyeri leher', 'pusing', 'kram', 'memar', 'obesitas', 'kaki bengkak', 'pembuluh darah bengkak', 'wajah dan mata bengkak', 'tiroid membesar', 'kuku rapuh', 'pembengkakan ekstremitas', 'rasa lapar berlebihan', 'kontak di luar nikah', 'bibir kering dan bertingling', 'bicara cadel', 'nyeri lutut', 'nyeri sendi pinggul', 'kelemahan otot', 'leher kaku', 'sendi bengkak', 'kekakuan pergerakan', 'gerakan berputar', 'kehilangan keseimbangan', 'ketidakstabilan', 'kelemahan satu sisi tubuh', 'hilang indra penciuman', 'ketidaknyamanan kandung kemih', 'bau urine menyengat', 'rasa ingin buang air kecil terus', 'gas keluar', 'gatal dalam', 'penampilan toksik', 'depresi', 'iritabilitas', 'nyeri otot', 'altered sensorium', 'bintik merah di tubuh', 'nyeri perut', 'menstruasi tidak normal', 'bercak dischromic', 'mata berair', 'nafsu makan meningkat', 'poliuria', 'riwayat keluarga', 'dahak lendir', 'dahak berkarat', 'kurang konsentrasi', 'gangguan penglihatan', 'menerima transfusi darah', 'menerima suntikan tidak steril', 'koma', 'pendarahan lambung', 'pembesaran perut', 'riwayat konsumsi alkohol', 'kelebihan cairan', 'darah di dahak', 'vena menonjol di betis', 'palpitasi', 'nyeri saat berjalan', 'jerawat bernanah', 'komedo', 'bekas luka', 'kulit mengelupas', 'debu seperti perak', 'lekukan kecil di kuku', 'kuku meradang', 'lepuh', 'luka merah di hidung', 'kerak kuning mengalir', 'diagnosa']\n"
          ]
        }
      ],
      "source": [
        "# Ambil semua kolom kecuali kolom target\n",
        "features = [col for col in dataset.columns if col != 'prognosis']\n",
        "print(\"Daftar fitur (tanpa kolom target):\", features)"
      ]
    },
    {
      "cell_type": "code",
      "execution_count": null,
      "metadata": {
        "id": "so4uHI0HXbwv",
        "colab": {
          "base_uri": "https://localhost:8080/"
        },
        "outputId": "4866717d-b8c4-4b81-a893-42e2e8b6fe5d"
      },
      "outputs": [
        {
          "output_type": "stream",
          "name": "stdout",
          "text": [
            "['Infeksi Jamur' 'Alergi' 'Penyakit Refluks Gastroesofagus (GERD)'\n",
            " 'Cholestasis Kronis' 'Reaksi Obat' 'Penyakit Tukak Lambung' 'AIDS'\n",
            " 'Diabetes ' 'Gastroenteritis' 'Asma Bronkial' 'Hypertension ' 'Migrain'\n",
            " 'Spondilosis Servikal' 'Paralisia (perdarahan otak)' 'Penyakit Kuning'\n",
            " 'Malaria' 'Cacar Air' 'Dengue' 'Tifus' 'Hepatitis A' 'Hepatitis B'\n",
            " 'Hepatitis C' 'Hepatitis D' 'Hepatitis E' 'Hepatitis Alkoholik'\n",
            " 'Tuberkulosis' 'Flu Biasa' 'Pneumonia' 'Wasir Dimorfik'\n",
            " 'Serangan Jantung' 'Varises' 'Hipotiroidisme' 'Hipertiroidisme'\n",
            " 'Hipoglikemia' 'Osteoartritis' 'Artritis' 'Vertigo' 'Jerawat'\n",
            " 'Infeksi Saluran Kemih' 'Psoriasis' 'Impetigo']\n"
          ]
        }
      ],
      "source": [
        "penyakit = dataset['diagnosa'].unique()\n",
        "print(penyakit)"
      ]
    },
    {
      "cell_type": "code",
      "execution_count": null,
      "metadata": {
        "id": "cr3gUTteXeht",
        "colab": {
          "base_uri": "https://localhost:8080/",
          "height": 115,
          "referenced_widgets": [
            "5584571af01b4c488c951b76a9048c7a",
            "8e477932833143698e7f4f0749e5e5f7",
            "94c3b3e377284766854fd271ae23a111",
            "5c944f9b247a48ea80a327ea2779849f",
            "206dda363fd748aeabb79789cf64f6af",
            "9ad2583f506249eba36ca84ec9161fd6",
            "16a73f14c2dc49b2bd408f265ff1b46a",
            "837e878e1bbe40e49cae477333434313"
          ]
        },
        "outputId": "b1858a05-fdb3-4099-ceb7-67f073b0cf74"
      },
      "outputs": [
        {
          "output_type": "display_data",
          "data": {
            "text/plain": [
              "Textarea(value='', description='Gejala:', layout=Layout(width='100%'), placeholder='Masukkan nama gejala, dipi…"
            ],
            "application/vnd.jupyter.widget-view+json": {
              "version_major": 2,
              "version_minor": 0,
              "model_id": "5584571af01b4c488c951b76a9048c7a"
            }
          },
          "metadata": {}
        },
        {
          "output_type": "display_data",
          "data": {
            "text/plain": [
              "Button(description='Prediksi', style=ButtonStyle())"
            ],
            "application/vnd.jupyter.widget-view+json": {
              "version_major": 2,
              "version_minor": 0,
              "model_id": "5c944f9b247a48ea80a327ea2779849f"
            }
          },
          "metadata": {}
        },
        {
          "output_type": "display_data",
          "data": {
            "text/plain": [
              "Output()"
            ],
            "application/vnd.jupyter.widget-view+json": {
              "version_major": 2,
              "version_minor": 0,
              "model_id": "16a73f14c2dc49b2bd408f265ff1b46a"
            }
          },
          "metadata": {}
        }
      ],
      "source": [
        "from IPython.display import display\n",
        "import ipywidgets as widgets\n",
        "import numpy as np\n",
        "import pandas as pd\n",
        "\n",
        "# Mendapatkan daftar fitur dan nama penyakit\n",
        "features = X_df.columns  # X adalah DataFrame fitur dari dataset\n",
        "penyakit = disease_classes  # Nama kelas penyakit dari OneHotEncoder\n",
        "\n",
        "# Fungsi untuk memproses input menjadi array dengan panjang sesuai jumlah fitur\n",
        "def process_input(input_features, all_features):\n",
        "    \"\"\"\n",
        "    Memproses input gejala menjadi array 2D untuk prediksi.\n",
        "    Gejala yang tidak diinput diberi nilai 0.\n",
        "    \"\"\"\n",
        "    processed_input = [1 if feature in input_features else 0 for feature in all_features]\n",
        "    return np.array([processed_input])  # Menambahkan dimensi batch\n",
        "\n",
        "# Text Area untuk Input Gejala\n",
        "text_area = widgets.Textarea(\n",
        "    placeholder='Masukkan nama gejala, dipisahkan dengan koma, misal: feature1,feature2',\n",
        "    description='Gejala:',\n",
        "    layout=widgets.Layout(width='100%')\n",
        ")\n",
        "\n",
        "# Tombol Prediksi\n",
        "button = widgets.Button(description='Prediksi')\n",
        "\n",
        "# Output Area\n",
        "output = widgets.Output()\n",
        "\n",
        "# Fungsi untuk Menangani Klik Tombol\n",
        "def on_button_click(b):\n",
        "    with output:\n",
        "        output.clear_output()  # Hapus output sebelumnya\n",
        "        input_text = text_area.value.strip()\n",
        "        input_features = [f.strip() for f in input_text.split(',') if f.strip()]\n",
        "        print(\"Gejala yang dimasukkan:\", input_features)\n",
        "\n",
        "        # Proses input menjadi array (otomatis panjang 131, dengan nilai 0 untuk yang tidak diinput)\n",
        "        X_test = process_input(input_features, features)\n",
        "        print(\"Array Input Gejala:\", X_test)\n",
        "\n",
        "        # Lakukan prediksi\n",
        "        prediction = model.predict(X_test)  # Menggunakan model DNN\n",
        "        print(\"Hasil Prediksi Probabilitas:\", prediction)\n",
        "\n",
        "        # Menampilkan hasil prediksi\n",
        "        predicted_index = np.argmax(prediction)  # Indeks kelas dengan probabilitas tertinggi\n",
        "        predicted_disease = penyakit[predicted_index]  # Nama penyakit berdasarkan indeks\n",
        "\n",
        "        # Tampilkan hasil\n",
        "        print(\"Hasil Prediksi:\", predicted_disease)\n",
        "\n",
        "button.on_click(on_button_click)\n",
        "\n",
        "# Tampilkan Form dan Output\n",
        "display(text_area, button, output)\n"
      ]
    },
    {
      "cell_type": "code",
      "execution_count": null,
      "metadata": {
        "id": "ZRadZIIQXmHJ"
      },
      "outputs": [],
      "source": [
        "export_dir = './saved_model'\n",
        "\n",
        "tf.saved_model.save(model, export_dir)"
      ]
    },
    {
      "cell_type": "code",
      "execution_count": null,
      "metadata": {
        "id": "v4ex837junTm"
      },
      "outputs": [],
      "source": [
        "converter = tf.lite.TFLiteConverter.from_saved_model(export_dir)\n",
        "\n",
        "# Set the optimzations\n",
        "converter.optimizations = [tf.lite.Optimize.DEFAULT]"
      ]
    },
    {
      "cell_type": "code",
      "execution_count": null,
      "metadata": {
        "id": "aGBmIii9wjgS"
      },
      "outputs": [],
      "source": [
        "# Invoke the converter to finally generate the TFLite model\n",
        "tflite_model = converter.convert()"
      ]
    },
    {
      "cell_type": "code",
      "execution_count": null,
      "metadata": {
        "id": "p4RyOMZc5a6e",
        "colab": {
          "base_uri": "https://localhost:8080/"
        },
        "outputId": "d582af75-a9ff-4391-d99b-121dbd1bf571"
      },
      "outputs": [
        {
          "output_type": "execute_result",
          "data": {
            "text/plain": [
              "30712"
            ]
          },
          "metadata": {},
          "execution_count": 28
        }
      ],
      "source": [
        "import pathlib\n",
        "tflite_model_file = pathlib.Path('./model.tflite')\n",
        "tflite_model_file.write_bytes(tflite_model)"
      ]
    },
    {
      "cell_type": "code",
      "source": [
        "!zip -r saved_model.zip saved_model"
      ],
      "metadata": {
        "id": "_hiT0TNTitM9",
        "colab": {
          "base_uri": "https://localhost:8080/"
        },
        "outputId": "a9e94e8f-1598-45b3-f44d-b7a2756e27ed"
      },
      "execution_count": null,
      "outputs": [
        {
          "output_type": "stream",
          "name": "stdout",
          "text": [
            "  adding: saved_model/ (stored 0%)\n",
            "  adding: saved_model/assets/ (stored 0%)\n",
            "  adding: saved_model/variables/ (stored 0%)\n",
            "  adding: saved_model/variables/variables.data-00000-of-00001 (deflated 12%)\n",
            "  adding: saved_model/variables/variables.index (deflated 59%)\n",
            "  adding: saved_model/fingerprint.pb (stored 0%)\n",
            "  adding: saved_model/saved_model.pb (deflated 86%)\n"
          ]
        }
      ]
    },
    {
      "cell_type": "code",
      "source": [
        "from google.colab import files\n",
        "files.download('saved_model.zip')\n"
      ],
      "metadata": {
        "id": "0UsdNu0vivoO",
        "colab": {
          "base_uri": "https://localhost:8080/",
          "height": 17
        },
        "outputId": "01571b1f-48c3-4ef4-df11-c117092b0cb2"
      },
      "execution_count": null,
      "outputs": [
        {
          "output_type": "display_data",
          "data": {
            "text/plain": [
              "<IPython.core.display.Javascript object>"
            ],
            "application/javascript": [
              "\n",
              "    async function download(id, filename, size) {\n",
              "      if (!google.colab.kernel.accessAllowed) {\n",
              "        return;\n",
              "      }\n",
              "      const div = document.createElement('div');\n",
              "      const label = document.createElement('label');\n",
              "      label.textContent = `Downloading \"${filename}\": `;\n",
              "      div.appendChild(label);\n",
              "      const progress = document.createElement('progress');\n",
              "      progress.max = size;\n",
              "      div.appendChild(progress);\n",
              "      document.body.appendChild(div);\n",
              "\n",
              "      const buffers = [];\n",
              "      let downloaded = 0;\n",
              "\n",
              "      const channel = await google.colab.kernel.comms.open(id);\n",
              "      // Send a message to notify the kernel that we're ready.\n",
              "      channel.send({})\n",
              "\n",
              "      for await (const message of channel.messages) {\n",
              "        // Send a message to notify the kernel that we're ready.\n",
              "        channel.send({})\n",
              "        if (message.buffers) {\n",
              "          for (const buffer of message.buffers) {\n",
              "            buffers.push(buffer);\n",
              "            downloaded += buffer.byteLength;\n",
              "            progress.value = downloaded;\n",
              "          }\n",
              "        }\n",
              "      }\n",
              "      const blob = new Blob(buffers, {type: 'application/binary'});\n",
              "      const a = document.createElement('a');\n",
              "      a.href = window.URL.createObjectURL(blob);\n",
              "      a.download = filename;\n",
              "      div.appendChild(a);\n",
              "      a.click();\n",
              "      div.remove();\n",
              "    }\n",
              "  "
            ]
          },
          "metadata": {}
        },
        {
          "output_type": "display_data",
          "data": {
            "text/plain": [
              "<IPython.core.display.Javascript object>"
            ],
            "application/javascript": [
              "download(\"download_7bd1f2a2-9f49-4cd7-bca6-97bbf76d9f85\", \"saved_model.zip\", 311531)"
            ]
          },
          "metadata": {}
        }
      ]
    },
    {
      "cell_type": "code",
      "source": [],
      "metadata": {
        "id": "K1Ry-8ZUi3AW"
      },
      "execution_count": null,
      "outputs": []
    }
  ],
  "metadata": {
    "colab": {
      "provenance": [],
      "gpuType": "V28"
    },
    "kernelspec": {
      "display_name": "Python 3",
      "name": "python3"
    },
    "language_info": {
      "name": "python"
    },
    "accelerator": "TPU",
    "widgets": {
      "application/vnd.jupyter.widget-state+json": {
        "5584571af01b4c488c951b76a9048c7a": {
          "model_module": "@jupyter-widgets/controls",
          "model_name": "TextareaModel",
          "model_module_version": "1.5.0",
          "state": {
            "_dom_classes": [],
            "_model_module": "@jupyter-widgets/controls",
            "_model_module_version": "1.5.0",
            "_model_name": "TextareaModel",
            "_view_count": null,
            "_view_module": "@jupyter-widgets/controls",
            "_view_module_version": "1.5.0",
            "_view_name": "TextareaView",
            "continuous_update": true,
            "description": "Gejala:",
            "description_tooltip": null,
            "disabled": false,
            "layout": "IPY_MODEL_8e477932833143698e7f4f0749e5e5f7",
            "placeholder": "Masukkan nama gejala, dipisahkan dengan koma, misal: feature1,feature2",
            "rows": null,
            "style": "IPY_MODEL_94c3b3e377284766854fd271ae23a111",
            "value": ""
          }
        },
        "8e477932833143698e7f4f0749e5e5f7": {
          "model_module": "@jupyter-widgets/base",
          "model_name": "LayoutModel",
          "model_module_version": "1.2.0",
          "state": {
            "_model_module": "@jupyter-widgets/base",
            "_model_module_version": "1.2.0",
            "_model_name": "LayoutModel",
            "_view_count": null,
            "_view_module": "@jupyter-widgets/base",
            "_view_module_version": "1.2.0",
            "_view_name": "LayoutView",
            "align_content": null,
            "align_items": null,
            "align_self": null,
            "border": null,
            "bottom": null,
            "display": null,
            "flex": null,
            "flex_flow": null,
            "grid_area": null,
            "grid_auto_columns": null,
            "grid_auto_flow": null,
            "grid_auto_rows": null,
            "grid_column": null,
            "grid_gap": null,
            "grid_row": null,
            "grid_template_areas": null,
            "grid_template_columns": null,
            "grid_template_rows": null,
            "height": null,
            "justify_content": null,
            "justify_items": null,
            "left": null,
            "margin": null,
            "max_height": null,
            "max_width": null,
            "min_height": null,
            "min_width": null,
            "object_fit": null,
            "object_position": null,
            "order": null,
            "overflow": null,
            "overflow_x": null,
            "overflow_y": null,
            "padding": null,
            "right": null,
            "top": null,
            "visibility": null,
            "width": "100%"
          }
        },
        "94c3b3e377284766854fd271ae23a111": {
          "model_module": "@jupyter-widgets/controls",
          "model_name": "DescriptionStyleModel",
          "model_module_version": "1.5.0",
          "state": {
            "_model_module": "@jupyter-widgets/controls",
            "_model_module_version": "1.5.0",
            "_model_name": "DescriptionStyleModel",
            "_view_count": null,
            "_view_module": "@jupyter-widgets/base",
            "_view_module_version": "1.2.0",
            "_view_name": "StyleView",
            "description_width": ""
          }
        },
        "5c944f9b247a48ea80a327ea2779849f": {
          "model_module": "@jupyter-widgets/controls",
          "model_name": "ButtonModel",
          "model_module_version": "1.5.0",
          "state": {
            "_dom_classes": [],
            "_model_module": "@jupyter-widgets/controls",
            "_model_module_version": "1.5.0",
            "_model_name": "ButtonModel",
            "_view_count": null,
            "_view_module": "@jupyter-widgets/controls",
            "_view_module_version": "1.5.0",
            "_view_name": "ButtonView",
            "button_style": "",
            "description": "Prediksi",
            "disabled": false,
            "icon": "",
            "layout": "IPY_MODEL_206dda363fd748aeabb79789cf64f6af",
            "style": "IPY_MODEL_9ad2583f506249eba36ca84ec9161fd6",
            "tooltip": ""
          }
        },
        "206dda363fd748aeabb79789cf64f6af": {
          "model_module": "@jupyter-widgets/base",
          "model_name": "LayoutModel",
          "model_module_version": "1.2.0",
          "state": {
            "_model_module": "@jupyter-widgets/base",
            "_model_module_version": "1.2.0",
            "_model_name": "LayoutModel",
            "_view_count": null,
            "_view_module": "@jupyter-widgets/base",
            "_view_module_version": "1.2.0",
            "_view_name": "LayoutView",
            "align_content": null,
            "align_items": null,
            "align_self": null,
            "border": null,
            "bottom": null,
            "display": null,
            "flex": null,
            "flex_flow": null,
            "grid_area": null,
            "grid_auto_columns": null,
            "grid_auto_flow": null,
            "grid_auto_rows": null,
            "grid_column": null,
            "grid_gap": null,
            "grid_row": null,
            "grid_template_areas": null,
            "grid_template_columns": null,
            "grid_template_rows": null,
            "height": null,
            "justify_content": null,
            "justify_items": null,
            "left": null,
            "margin": null,
            "max_height": null,
            "max_width": null,
            "min_height": null,
            "min_width": null,
            "object_fit": null,
            "object_position": null,
            "order": null,
            "overflow": null,
            "overflow_x": null,
            "overflow_y": null,
            "padding": null,
            "right": null,
            "top": null,
            "visibility": null,
            "width": null
          }
        },
        "9ad2583f506249eba36ca84ec9161fd6": {
          "model_module": "@jupyter-widgets/controls",
          "model_name": "ButtonStyleModel",
          "model_module_version": "1.5.0",
          "state": {
            "_model_module": "@jupyter-widgets/controls",
            "_model_module_version": "1.5.0",
            "_model_name": "ButtonStyleModel",
            "_view_count": null,
            "_view_module": "@jupyter-widgets/base",
            "_view_module_version": "1.2.0",
            "_view_name": "StyleView",
            "button_color": null,
            "font_weight": ""
          }
        },
        "16a73f14c2dc49b2bd408f265ff1b46a": {
          "model_module": "@jupyter-widgets/output",
          "model_name": "OutputModel",
          "model_module_version": "1.0.0",
          "state": {
            "_dom_classes": [],
            "_model_module": "@jupyter-widgets/output",
            "_model_module_version": "1.0.0",
            "_model_name": "OutputModel",
            "_view_count": null,
            "_view_module": "@jupyter-widgets/output",
            "_view_module_version": "1.0.0",
            "_view_name": "OutputView",
            "layout": "IPY_MODEL_837e878e1bbe40e49cae477333434313",
            "msg_id": "",
            "outputs": []
          }
        },
        "837e878e1bbe40e49cae477333434313": {
          "model_module": "@jupyter-widgets/base",
          "model_name": "LayoutModel",
          "model_module_version": "1.2.0",
          "state": {
            "_model_module": "@jupyter-widgets/base",
            "_model_module_version": "1.2.0",
            "_model_name": "LayoutModel",
            "_view_count": null,
            "_view_module": "@jupyter-widgets/base",
            "_view_module_version": "1.2.0",
            "_view_name": "LayoutView",
            "align_content": null,
            "align_items": null,
            "align_self": null,
            "border": null,
            "bottom": null,
            "display": null,
            "flex": null,
            "flex_flow": null,
            "grid_area": null,
            "grid_auto_columns": null,
            "grid_auto_flow": null,
            "grid_auto_rows": null,
            "grid_column": null,
            "grid_gap": null,
            "grid_row": null,
            "grid_template_areas": null,
            "grid_template_columns": null,
            "grid_template_rows": null,
            "height": null,
            "justify_content": null,
            "justify_items": null,
            "left": null,
            "margin": null,
            "max_height": null,
            "max_width": null,
            "min_height": null,
            "min_width": null,
            "object_fit": null,
            "object_position": null,
            "order": null,
            "overflow": null,
            "overflow_x": null,
            "overflow_y": null,
            "padding": null,
            "right": null,
            "top": null,
            "visibility": null,
            "width": null
          }
        }
      }
    }
  },
  "nbformat": 4,
  "nbformat_minor": 0
}