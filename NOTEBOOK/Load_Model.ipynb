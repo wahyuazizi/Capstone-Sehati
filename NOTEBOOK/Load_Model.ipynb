{
  "nbformat": 4,
  "nbformat_minor": 0,
  "metadata": {
    "colab": {
      "provenance": []
    },
    "kernelspec": {
      "name": "python3",
      "display_name": "Python 3"
    },
    "language_info": {
      "name": "python"
    }
  },
  "cells": [
    {
      "cell_type": "code",
      "source": [
        "import numpy as np\n",
        "import tensorflow as tf\n",
        "\n",
        "# Daftar fitur lengkap dari dataset (131 fitur)\n",
        "features = ['gatal', 'ruam kulit', 'erupsi kulit nodal', 'bersin terus menerus', 'menggigil', 'kedinginan', 'nyeri sendi', 'nyeri perut', 'asam lambung', 'luka di lidah', 'penyusutan otot', 'muntah', 'sensasi terbakar saat buang air kecil', 'bercak saat buang air kecil', 'kelelahan', 'penambahan berat badan', 'kecemasan', 'tangan dan kaki dingin', 'perubahan mood', 'penurunan berat badan', 'gelisah', 'lesu', 'bercak di tenggorokan', 'gula darah tidak teratur', 'batuk', 'demam tinggi', 'mata cekung', 'sesak napas', 'berkeringat', 'dehidrasi', 'gangguan pencernaan', 'sakit kepala', 'kulit kekuningan', 'urine gelap', 'mual', 'hilang nafsu makan', 'nyeri di belakang mata', 'sakit punggung', 'sembelit', 'sakit perut', 'diare', 'demam ringan', 'urine kuning', 'mata kuning', 'gagal hati akut', 'pembengkakan perut', 'kelenjar getah bening bengkak', 'kelelahan', 'penglihatan buram', 'dahak', 'iritasi tenggorokan', 'mata merah', 'tekanan sinus', 'pilek', 'hidung tersumbat', 'nyeri dada', 'kelemahan di anggota tubuh', 'detak jantung cepat', 'nyeri saat buang air besar', 'nyeri di area anus', 'tinja berdarah', 'iritasi di anus', 'nyeri leher', 'pusing', 'kram', 'memar', 'obesitas', 'kaki bengkak', 'pembuluh darah bengkak', 'wajah dan mata bengkak', 'tiroid membesar', 'kuku rapuh', 'pembengkakan ekstremitas', 'rasa lapar berlebihan', 'kontak di luar nikah', 'bibir kering dan bertingling', 'bicara cadel', 'nyeri lutut', 'nyeri sendi pinggul', 'kelemahan otot', 'leher kaku', 'sendi bengkak', 'kekakuan pergerakan', 'gerakan berputar', 'kehilangan keseimbangan', 'ketidakstabilan', 'kelemahan satu sisi tubuh', 'hilang indra penciuman', 'ketidaknyamanan kandung kemih', 'bau urine menyengat', 'rasa ingin buang air kecil terus', 'gas keluar', 'gatal dalam', 'penampilan toksik', 'depresi', 'iritabilitas', 'nyeri otot', 'altered sensorium', 'bintik merah di tubuh', 'nyeri perut', 'menstruasi tidak normal', 'bercak dischromic', 'mata berair', 'nafsu makan meningkat', 'poliuria', 'riwayat keluarga', 'dahak lendir', 'dahak berkarat', 'kurang konsentrasi', 'gangguan penglihatan', 'menerima transfusi darah', 'menerima suntikan tidak steril', 'koma', 'pendarahan lambung', 'pembesaran perut', 'riwayat konsumsi alkohol', 'kelebihan cairan', 'darah di dahak', 'vena menonjol di betis', 'palpitasi', 'nyeri saat berjalan', 'jerawat bernanah', 'komedo', 'bekas luka', 'kulit mengelupas', 'debu seperti perak', 'lekukan kecil di kuku', 'kuku meradang', 'lepuh', 'luka merah di hidung', 'kerak kuning mengalir']\n",
        "\n",
        "# Pastikan 'features' berisi 131 elemen\n",
        "assert len(features) == 131, f\"features harus memiliki 131 elemen, saat ini memiliki: {len(features)}\"\n",
        "\n",
        "\n",
        "# Nama kelas penyakit (sesuaikan dengan model Anda)\n",
        "disease_classes = ['Infeksi Jamur', 'Alergi', 'Penyakit Refluks Gastroesofagus (GERD)',\n",
        " 'Cholestasis Kronis', 'Reaksi Obat', 'Penyakit Tukak Lambung', 'AIDS',\n",
        " 'Diabetes', 'Gastroenteritis', 'Asma Bronkial', 'Hypertension', 'Migrain',\n",
        " 'Spondilosis Servikal', 'Paralisia (perdarahan otak)', 'Penyakit Kuning',\n",
        " 'Malaria', 'Cacar Air', 'Dengue', 'Tifus', 'Hepatitis A', 'Hepatitis B',\n",
        " 'Hepatitis C', 'Hepatitis D', 'Hepatitis E', 'Hepatitis Alkoholik',\n",
        " 'Tuberkulosis', 'Flu Biasa', 'Pneumonia', 'Wasir Dimorfik',\n",
        " 'Serangan Jantung', 'Varises', 'Hipotiroidisme', 'Hipertiroidisme',\n",
        " 'Hipoglikemia', 'Osteoartritis', 'Artritis', 'Vertigo', 'Jerawat',\n",
        " 'Infeksi Saluran Kemih', 'Psoriasis', 'Impetigo']\n",
        "\n",
        "# Fungsi untuk mengubah input pengguna menjadi array biner\n",
        "def process_input(user_input, features):\n",
        "    \"\"\"\n",
        "    user_input: List fitur (gejala) dari user.\n",
        "    features: List lengkap semua fitur dalam dataset.\n",
        "    \"\"\"\n",
        "    input_array = [1 if feature in user_input else 0 for feature in features]\n",
        "    return np.array([input_array], dtype=np.float32)  # Tambahkan dimensi batch\n",
        "\n",
        "# Contoh input user\n",
        "user_input = ['bersin terus menerus', 'menggigil', 'kedinginan', 'nyeri sendi']\n",
        "\n",
        "# Proses input menjadi array berdimensi (1, 131)\n",
        "input_data = process_input(user_input, features)\n",
        "print(\"Input Array Shape:\", input_data.shape)  # Pastikan (1, 131)\n",
        "\n",
        "# Load model TFLite\n",
        "interpreter = tf.lite.Interpreter(model_path=\"model.tflite\")\n",
        "interpreter.allocate_tensors()\n",
        "\n",
        "# Detail input dan output\n",
        "input_details = interpreter.get_input_details()\n",
        "output_details = interpreter.get_output_details()\n",
        "\n",
        "# Pastikan input data dimasukkan ke model\n",
        "interpreter.set_tensor(input_details[0]['index'], input_data)\n",
        "\n",
        "# Jalankan prediksi\n",
        "interpreter.invoke()\n",
        "\n",
        "# Ambil hasil prediksi\n",
        "output_data = interpreter.get_tensor(output_details[0]['index'])\n",
        "predicted_class = np.argmax(output_data)\n",
        "\n",
        "# Hasil prediksi\n",
        "predicted_disease = disease_classes[predicted_class]\n",
        "print(\"Predicted Class:\", predicted_class)\n",
        "print(\"Prediction Probabilities:\", output_data)\n",
        "print(\"Predicted Disease:\", predicted_disease)"
      ],
      "metadata": {
        "colab": {
          "base_uri": "https://localhost:8080/"
        },
        "id": "vroJz7ygeoC4",
        "outputId": "418e7023-8aaf-43b3-e362-69f359f3ef64"
      },
      "execution_count": 6,
      "outputs": [
        {
          "output_type": "stream",
          "name": "stdout",
          "text": [
            "Input Array Shape: (1, 131)\n",
            "Predicted Class: 1\n",
            "Prediction Probabilities: [[1.4663616e-04 9.9613887e-01 4.2958687e-05 2.5603507e-05 1.4172238e-06\n",
            "  9.4644583e-06 2.4043959e-04 2.2134873e-06 3.0206711e-05 1.9028744e-07\n",
            "  4.7243876e-07 2.1857946e-05 1.1809888e-05 2.9913118e-04 1.1608079e-03\n",
            "  1.7721641e-05 2.1756041e-05 1.6171458e-04 1.3062939e-04 3.5424713e-05\n",
            "  2.9572979e-07 4.6938512e-06 1.5642298e-06 4.5259471e-06 1.2166845e-05\n",
            "  9.9709767e-05 1.5117759e-05 7.1335788e-05 5.6786645e-05 4.8373854e-06\n",
            "  9.4186151e-05 1.2334902e-04 7.1916892e-04 8.6233609e-05 7.4750246e-06\n",
            "  6.8815816e-06 2.8653576e-05 5.2995147e-06 7.5385782e-05 7.2195937e-05\n",
            "  1.0616606e-05]]\n",
            "Predicted Disease: Alergi\n"
          ]
        }
      ]
    },
    {
      "cell_type": "code",
      "source": [],
      "metadata": {
        "id": "IrAPD4Kcgn3s"
      },
      "execution_count": null,
      "outputs": []
    }
  ]
}